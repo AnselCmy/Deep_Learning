{
 "cells": [
  {
   "cell_type": "code",
   "execution_count": 3,
   "metadata": {},
   "outputs": [
    {
     "name": "stdout",
     "output_type": "stream",
     "text": [
      "Extracting MNIST_data/train-images-idx3-ubyte.gz\n",
      "Extracting MNIST_data/train-labels-idx1-ubyte.gz\n",
      "Extracting MNIST_data/t10k-images-idx3-ubyte.gz\n",
      "Extracting MNIST_data/t10k-labels-idx1-ubyte.gz\n"
     ]
    }
   ],
   "source": [
    "%matplotlib inline\n",
    "import matplotlib.pyplot as plt\n",
    "import numpy as np\n",
    "import tensorflow as tf\n",
    "import time\n",
    "import math\n",
    "from tqdm import tqdm as tqdm\n",
    "from tensorflow.python.framework import ops\n",
    "from tensorflow.examples.tutorials.mnist import input_data\n",
    "mnist = input_data.read_data_sets(\"MNIST_data/\", one_hot=True)"
   ]
  },
  {
   "cell_type": "markdown",
   "metadata": {},
   "source": [
    "### Neural Networks Model by TensorFlow"
   ]
  },
  {
   "cell_type": "code",
   "execution_count": 4,
   "metadata": {
    "collapsed": true
   },
   "outputs": [],
   "source": [
    "class tf_nn_model():\n",
    "    def __init__(self, laysers_dims):\n",
    "        self.laysers_dims = laysers_dims\n",
    "        self.L = len(laysers_dims) - 1\n",
    "        self.n_x = laysers_dims[0]\n",
    "        self.n_y = laysers_dims[-1]\n",
    "        self.W = [None for i in range(self.L+1)]\n",
    "        self.b = [None for i in range(self.L+1)]\n",
    "        self.initial_params()\n",
    "        self.initial_palceholder()\n",
    "        self.J = []\n",
    "        \n",
    "    def set_data(self, X, Y):\n",
    "        self.X_run = X\n",
    "        self.Y_run = Y\n",
    "    \n",
    "    def initial_params(self):\n",
    "        for i in range(1, self.L+1):\n",
    "            self.W[i] = tf.get_variable(\"W\"+str(i), [self.laysers_dims[i], self.laysers_dims[i-1]],\n",
    "                                         initializer = tf.contrib.layers.xavier_initializer())\n",
    "            self.b[i] = tf.get_variable(\"b\"+str(i), [self.laysers_dims[i], 1],\n",
    "                                         initializer = tf.zeros_initializer())\n",
    "    \n",
    "    def initial_palceholder(self):\n",
    "        self.X = tf.placeholder(tf.float32, [self.n_x, None])\n",
    "        self.Y = tf.placeholder(tf.float32, [self.n_y, None])\n",
    "    \n",
    "    def forward(self):\n",
    "        Z = tf.matmul(self.W[1], self.X) + self.b[1]\n",
    "        A = tf.nn.relu(Z)\n",
    "        for i in range(2, self.L+1):\n",
    "            Z = tf.matmul(self.W[i], A) + self.b[i]\n",
    "            A = tf.nn.relu(Z)\n",
    "        return A\n",
    "    \n",
    "    def sess_start(self):\n",
    "        self.sess = tf.Session()\n",
    "        init = tf.global_variables_initializer()\n",
    "        self.sess.run(init)\n",
    "        \n",
    "    def sess_close(self):\n",
    "        self.sess.close()\n",
    "        \n",
    "    def random_mini_batches(self, bs=64):  \n",
    "        m = self.X_run.shape[1]              \n",
    "        mini_batches = []\n",
    "        # Shuffle (X, Y)\n",
    "        permutation = list(np.random.permutation(m))\n",
    "        shuffled_X = self.X_run[:, permutation]\n",
    "        shuffled_Y = self.Y_run[:, permutation]\n",
    "        # Partition (shuffled_X, shuffled_Y). Minus the end case.\n",
    "        num_complete_minibatches = math.floor(m/bs) # number of mini batches of size mini_batch_size in your partitionning\n",
    "        # Slice the batch into minibatch\n",
    "        for k in range(0, num_complete_minibatches):\n",
    "            mini_batch_X = shuffled_X[:, k * bs : k * bs + bs]\n",
    "            mini_batch_Y = shuffled_Y[:, k * bs : k * bs + bs]\n",
    "            mini_batch = (mini_batch_X, mini_batch_Y)\n",
    "            mini_batches.append(mini_batch)\n",
    "        # Handling the end case (last mini-batch < mini_batch_size)\n",
    "        if m % bs != 0:\n",
    "            mini_batch_X = shuffled_X[:, num_complete_minibatches * bs : m]\n",
    "            mini_batch_Y = shuffled_Y[:, num_complete_minibatches * bs : m]\n",
    "            mini_batch = (mini_batch_X, mini_batch_Y)\n",
    "            mini_batches.append(mini_batch)\n",
    "\n",
    "        return mini_batches\n",
    "    \n",
    "    def run(self, lr=0.01, epoch=1000, bs=64):\n",
    "        # forward\n",
    "        self.Y_hat = self.forward()\n",
    "        # cost function\n",
    "        cost = tf.reduce_mean(tf.nn.softmax_cross_entropy_with_logits(labels=tf.transpose(self.Y), logits=tf.transpose(self.Y_hat)))\n",
    "        # run optimization \n",
    "        train = tf.train.GradientDescentOptimizer(learning_rate=lr).minimize(cost)\n",
    "        for epoch in tqdm(range(epoch)):\n",
    "            # get the mini batchs\n",
    "            mini_batches = self.random_mini_batches(bs)\n",
    "            # run by mini batch\n",
    "            for mini_batch in mini_batches:\n",
    "                _, epoch_cost = self.sess.run([train, cost], feed_dict={self.X: mini_batch[0], self.Y: mini_batch[1]})\n",
    "                self.J.append(epoch_cost)\n",
    "        print('cost: ', epoch_cost)\n",
    "        \n",
    "    def train_accuracy(self):\n",
    "        correct_prediction = tf.equal(tf.argmax(self.Y_hat), tf.argmax(self.Y))\n",
    "        acc = tf.reduce_mean(tf.cast(correct_prediction, tf.float32))\n",
    "        return self.sess.run(acc, feed_dict={self.X: self.X_run, self.Y: self.Y_run})\n",
    "    \n",
    "    def test_accuracy(self, X_test, Y_test):\n",
    "        self.set_data(X_test, Y_test)\n",
    "        self.Y_hat = self.forward()\n",
    "        correct_prediction = tf.equal(tf.argmax(self.Y_hat), tf.argmax(self.Y))\n",
    "        acc = tf.reduce_mean(tf.cast(correct_prediction, tf.float32))\n",
    "        return self.sess.run(acc, feed_dict={self.X: self.X_run, self.Y: self.Y_run})"
   ]
  },
  {
   "cell_type": "markdown",
   "metadata": {},
   "source": [
    "### MNIST Dataset"
   ]
  },
  {
   "cell_type": "code",
   "execution_count": 5,
   "metadata": {
    "collapsed": true
   },
   "outputs": [],
   "source": [
    "X_train = mnist.train.images.T[:, :1000]\n",
    "Y_train = mnist.train.labels.T[:, :1000]\n",
    "X_test = mnist.train.images.T[:, 1000: 1100]\n",
    "Y_test = mnist.train.labels.T[:, 1000: 1100]"
   ]
  },
  {
   "cell_type": "markdown",
   "metadata": {},
   "source": [
    "### NN with mini batch size as 64"
   ]
  },
  {
   "cell_type": "code",
   "execution_count": 6,
   "metadata": {
    "scrolled": false
   },
   "outputs": [
    {
     "name": "stderr",
     "output_type": "stream",
     "text": [
      "100%|██████████| 1000/1000 [00:21<00:00, 46.56it/s]\n"
     ]
    },
    {
     "name": "stdout",
     "output_type": "stream",
     "text": [
      "cost:  0.0184246\n",
      "train accuracy:  0.998\n",
      "test accuracy :  0.96\n",
      "elapsed:  21.849157333374023\n"
     ]
    },
    {
     "data": {
      "image/png": "[encoded data removed]",
      "text/plain": [
       "<matplotlib.figure.Figure at 0x1154b6668>"
      ]
     },
     "metadata": {},
     "output_type": "display_data"
    }
   ],
   "source": [
    "ops.reset_default_graph() \n",
    "tf_nn = tf_nn_model([X_train.shape[0], 50, Y_train.shape[0]])\n",
    "tf_nn.set_data(X_train, Y_train)\n",
    "\n",
    "start = time.time()\n",
    "tf_nn.sess_start()\n",
    "\n",
    "tf_nn.run(lr=0.01, epoch=1000, bs=64)\n",
    "plt.plot(tf_nn.J)\n",
    "print('train accuracy: ', tf_nn.train_accuracy())\n",
    "print('test accuracy : ', tf_nn.test_accuracy(X_test, Y_test))\n",
    "\n",
    "tf_nn.sess_close()\n",
    "elapsed = time.time() - start\n",
    "print('elapsed: ', elapsed)"
   ]
  },
  {
   "cell_type": "markdown",
   "metadata": {},
   "source": [
    "### NN without mini batch"
   ]
  },
  {
   "cell_type": "code",
   "execution_count": 7,
   "metadata": {},
   "outputs": [
    {
     "name": "stderr",
     "output_type": "stream",
     "text": [
      "100%|██████████| 1000/1000 [00:11<00:00, 85.85it/s]\n"
     ]
    },
    {
     "name": "stdout",
     "output_type": "stream",
     "text": [
      "cost:  1.04794\n",
      "train accuracy:  0.654\n",
      "test accuracy :  0.67\n",
      "elapsed:  11.865484237670898\n"
     ]
    },
    {
     "data": {
      "image/png": "[encoded data removed]",
      "text/plain": [
       "<matplotlib.figure.Figure at 0x11ece6d68>"
      ]
     },
     "metadata": {},
     "output_type": "display_data"
    }
   ],
   "source": [
    "ops.reset_default_graph() \n",
    "tf_nn = tf_nn_model([X_train.shape[0], 50, Y_train.shape[0]])\n",
    "tf_nn.set_data(X_train, Y_train)\n",
    "\n",
    "start = time.time()\n",
    "tf_nn.sess_start()\n",
    "\n",
    "tf_nn.run(lr=0.01, epoch=1000, bs=X_train.shape[1])\n",
    "plt.plot(tf_nn.J)\n",
    "print('train accuracy: ', tf_nn.train_accuracy())\n",
    "print('test accuracy : ', tf_nn.test_accuracy(X_test, Y_test))\n",
    "\n",
    "tf_nn.sess_close()\n",
    "elapsed = time.time() - start\n",
    "print('elapsed: ', elapsed)"
   ]
  }
 ],
 "metadata": {
  "kernelspec": {
   "display_name": "Python 3",
   "language": "python",
   "name": "python3"
  },
  "language_info": {
   "codemirror_mode": {
    "name": "ipython",
    "version": 3
   },
   "file_extension": ".py",
   "mimetype": "text/x-python",
   "name": "python",
   "nbconvert_exporter": "python",
   "pygments_lexer": "ipython3",
   "version": "3.6.1"
  }
 },
 "nbformat": 4,
 "nbformat_minor": 2
}
