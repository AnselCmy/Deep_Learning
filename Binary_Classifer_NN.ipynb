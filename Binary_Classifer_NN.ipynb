{
 "cells": [
  {
   "cell_type": "code",
   "execution_count": 537,
   "metadata": {
    "collapsed": false,
    "deletable": true,
    "editable": true,
    "nbpresent": {
     "id": "b1841789-0949-4bda-a9eb-6d4d35d002bd"
    }
   },
   "outputs": [],
   "source": [
    "%matplotlib inline\n",
    "import matplotlib.pyplot as plt\n",
    "import numpy as np\n",
    "import h5py\n",
    "import sklearn.datasets\n",
    "from tqdm import tqdm"
   ]
  },
  {
   "cell_type": "code",
   "execution_count": 561,
   "metadata": {
    "collapsed": false,
    "deletable": true,
    "editable": true,
    "nbpresent": {
     "id": "cd9874c4-fe4e-4c19-a93e-83e34c513fbb"
    }
   },
   "outputs": [],
   "source": [
    "class nn_model:\n",
    "    def __init__(self, layers_dims):\n",
    "        self.layers_dims = layers_dims\n",
    "        self.L = len(self.layers_dims)-1 # sub 1 for input layer\n",
    "        # variable of Z and A, we don't use the index 0\n",
    "        self.A = [None for i in range(self.L+1)]\n",
    "        self.Z = [None for i in range(self.L+1)]\n",
    "        self.dA = [None for i in range(self.L+1)]\n",
    "        self.dZ = [None for i in range(self.L+1)]\n",
    "        # parameter of W and b, we don't use the index 0\n",
    "        self.W = [None for i in range(self.L+1)]\n",
    "        self.b = [None for i in range(self.L+1)]\n",
    "        self.dW = [None for i in range(self.L+1)]\n",
    "        self.db = [None for i in range(self.L+1)]\n",
    "        # parameter for Adam \n",
    "        self.vdW = [None for i in range(self.L+1)]\n",
    "        self.vdb = [None for i in range(self.L+1)]\n",
    "        self.sdW = [None for i in range(self.L+1)]\n",
    "        self.sdb = [None for i in range(self.L+1)]\n",
    "        # the number of examples\n",
    "        self.m = 0\n",
    "        # the cost between y_hat and y\n",
    "        self.cost = 0\n",
    "        # the list store the J value\n",
    "        self.J = []\n",
    "        # random initial\n",
    "        self.initial_params()\n",
    "        \n",
    "    def sigmoid(self, Z):\n",
    "        A = 1 / (1+np.exp(-Z))\n",
    "        return A \n",
    "    \n",
    "    def sigmoid_prime(self, Z):\n",
    "        s = self.sigmoid(Z)\n",
    "        dZ = s*(1-s)\n",
    "        return dZ\n",
    "    \n",
    "    def relu(self, Z):\n",
    "        A = np.maximum(0,Z)\n",
    "        return A\n",
    "    \n",
    "    def relu_prime(self, Z):\n",
    "        (rows, cols) = Z.shape\n",
    "        dZ = np.array([[1.0 if Z[i, j] > 0 else 0.0 for j in range(cols)] for i in range(rows)])\n",
    "        return dZ\n",
    "        \n",
    "    def set_data(self, X, Y):\n",
    "        self.X = X\n",
    "        self.Y = Y\n",
    "        self.A[0] = X\n",
    "        self.m = X.shape[1]\n",
    "        # X.shape[0] is the n_x\n",
    "        assert(X.shape[0] == self.W[1].shape[1])\n",
    "        # Y.shape[0] is the n_y\n",
    "        assert(Y.shape[0] == self.W[-1].shape[0])\n",
    "    \n",
    "    def initial_params(self):\n",
    "        for i in range(1, self.L+1): # iter from 1 ~ L layer\n",
    "            self.W[i] = np.random.randn(self.layers_dims[i], self.layers_dims[i-1])*np.sqrt(2/self.layers_dims[i-1])\n",
    "            self.b[i] = np.zeros((self.layers_dims[i], 1))\n",
    "            # take a assert for certain the dimension\n",
    "            assert(self.W[i].shape == (self.layers_dims[i], self.layers_dims[i-1]))\n",
    "            assert(self.b[i].shape == (self.layers_dims[i], 1))\n",
    "            # adam params\n",
    "            self.vdW[i] = np.zeros(self.W[i].shape)\n",
    "            self.vdb[i] = np.zeros(self.b[i].shape)\n",
    "            self.sdW[i] = np.zeros(self.W[i].shape)\n",
    "            self.sdb[i] = np.zeros(self.b[i].shape)\n",
    "        \n",
    "    def linear_activation_forward(self, A_prev, W, b, activation):\n",
    "        \"\"\"\n",
    "        Arguments:\n",
    "        A_prev: the A(activated) value of previous layer \n",
    "        W: the parameter 'W' of current layer\n",
    "        b: the parameter 'b' of current layer\n",
    "    \n",
    "        activation: the activation function used in neuron\n",
    "\n",
    "        Returns:\n",
    "        A = the activated value computed by A_prev and the parameters\n",
    "        Z = the value after linear function\n",
    "        \"\"\"\n",
    "        Z = np.dot(W, A_prev) + b # the linear part \n",
    "        if(activation == 'sigmoid'):\n",
    "            A = self.sigmoid(Z)\n",
    "        elif(activation == 'relu'):\n",
    "            A = self.relu(Z)\n",
    "            \n",
    "        assert(Z.shape == (W.shape[0], A.shape[1])) # (n_h, m)\n",
    "        assert(A.shape == Z.shape)\n",
    "        return Z, A\n",
    "    \n",
    "    def forward(self):\n",
    "        # iter from 1 ~ L-1 layer\n",
    "        for i in range(1, self.L):\n",
    "            A_prev = self.A[i-1]\n",
    "            W = self.W[i]\n",
    "            b = self.b[i]\n",
    "            self.Z[i], self.A[i] = self.linear_activation_forward(A_prev, W, b, 'relu')\n",
    "            \n",
    "        # the last L layer, sigmoid for binary classifier\n",
    "        A_prev = self.A[self.L-1]\n",
    "        W = self.W[self.L]\n",
    "        b = self.b[self.L]\n",
    "        self.Z[self.L], self.A[self.L] = self.linear_activation_forward(A_prev, W, b, 'sigmoid')\n",
    "        \n",
    "    def compute_cost(self):\n",
    "        # beacause here is a binary classifier so the output n_y == 1\n",
    "        cost = (-1./ self.m)*np.sum(self.Y*np.log(self.A[-1]) + (1-self.Y)*np.log(1-self.A[-1]), axis=1)\n",
    "        self.cost = np.squeeze(cost)\n",
    "        self.J.append(self.cost)\n",
    "        assert(self.cost.shape == ())\n",
    "            \n",
    "    def linear_activation_backward(self, dZ_next, Z, W_next, activation):\n",
    "        dA = np.dot(W_next.T, dZ_next)\n",
    "        if activation == 'sigmoid':\n",
    "            dZ = dA*self.sigmoid_prime(Z)\n",
    "        elif activation == 'relu':\n",
    "            dZ = dA*self.relu_prime(Z)\n",
    "        return dA, dZ\n",
    "        \n",
    "    def backward(self):    \n",
    "        #dA[-1] = dJ/da\n",
    "        #self.dA[-1] = -(np.divide(self.Y, self.A[-1])-np.divide(1-self.Y, 1-self.A[-1]))\n",
    "        # the last dZ is often computed by hand\n",
    "        self.dZ[-1] = self.A[-1] - self.Y\n",
    "        self.dW[-1] = (1./self.m) * np.dot(self.dZ[-1], self.A[-2].T)\n",
    "        self.db[-1] = (1./self.m) * np.sum(self.dZ[-1], axis=1, keepdims=True)\n",
    "        \n",
    "        # iter from L-1 to 1 layer\n",
    "        for i in range(self.L-1, 0, -1):\n",
    "            dZ_next = self.dZ[i+1]\n",
    "            Z = self.Z[i]\n",
    "            W_next = self.W[i+1]\n",
    "            self.dA[i], self.dZ[i] = self.linear_activation_backward(dZ_next, Z, W_next, 'relu')\n",
    "            # dw, db\n",
    "            self.dW[i] = (1./self.m) * np.dot(self.dZ[i], self.A[i-1].T)\n",
    "            self.db[i] = (1./self.m) * np.sum(self.dZ[i], axis=1, keepdims=True)\n",
    "            assert(self.dW[i].shape == self.W[i].shape)\n",
    "            assert(self.db[i].shape == self.b[i].shape)\n",
    "            \n",
    "    def update_params(self, lr):\n",
    "        for i in range(1, self.L+1): # iter from 1 to L\n",
    "            self.W[i] -= lr*self.dW[i]\n",
    "            self.b[i] -= lr*self.db[i]\n",
    "            \n",
    "    def update_params_adam(self, lr = 0.01, beta1 = 0.9, beta2 = 0.999,  epsilon = 1e-8):\n",
    "        for i in range(1, self.L+1): # iter from 1 to L\n",
    "            # update adam params\n",
    "            self.vdW[i] = beta1*self.vdW[i] + (1-beta1)*self.dW[i]\n",
    "            self.vdb[i] = beta1*self.vdb[i] + (1-beta1)*self.db[i]\n",
    "            vdW_corr = self.vdW[i] / (1 - pow(beta1, i))\n",
    "            vdb_corr = self.vdb[i] / (1 - pow(beta1, i))\n",
    "            self.sdW[i] = beta2*self.sdW[i] + (1-beta2)*np.square(self.dW[i])\n",
    "            self.sdb[i] = beta2*self.sdb[i] + (1-beta2)*np.square(self.db[i])   \n",
    "            sdW_corr = self.sdW[i] / (1 - pow(beta2, i))\n",
    "            sdb_corr = self.sdb[i] / (1 - pow(beta2, i))\n",
    "            # updaate grads\n",
    "            self.W[i] -= lr*(vdW_corr / (np.sqrt(sdW_corr) + epsilon))\n",
    "            self.b[i] -= lr*(vdb_corr / (np.sqrt(sdb_corr) + epsilon))\n",
    "        \n",
    "    def run(self, epoch=100, lr=0.01, adam=True, prt=False):\n",
    "        for e in range(epoch):\n",
    "            nn.forward()\n",
    "            nn.compute_cost()\n",
    "            nn.backward()\n",
    "            if(adam):\n",
    "                nn.update_params_adam(lr)\n",
    "            else:\n",
    "                nn.update_params(lr)\n",
    "            if(prt):\n",
    "                print(self.cost)\n",
    "            \n",
    "    def predict(self, test_X, test_Y):\n",
    "        self.set_data(test_X, test_Y)\n",
    "        self.forward()\n",
    "        last_layer = (self.A[-1] > 0.5).astype('int')\n",
    "        rst = last_layer == test_Y\n",
    "        rst.astype('int')\n",
    "        accuracy = np.sum(rst) / test_Y.shape[1]\n",
    "        return accuracy"
   ]
  },
  {
   "cell_type": "markdown",
   "metadata": {},
   "source": [
    "## Gradient Checking"
   ]
  },
  {
   "cell_type": "code",
   "execution_count": 562,
   "metadata": {
    "collapsed": true,
    "deletable": true,
    "editable": true
   },
   "outputs": [],
   "source": [
    "def matrix_to_vector(nn):\n",
    "    params = np.array([])\n",
    "    for i in range(1, nn.L+1):\n",
    "        params = np.append(params, nn.W[i])\n",
    "        params = np.append(params, nn.b[i])\n",
    "    params = params.reshape(-1, 1)\n",
    "    return params\n",
    "\n",
    "def set_by_vector(nn, params):\n",
    "    start = 0\n",
    "    end = 0\n",
    "    for i in range(1, nn.L+1):\n",
    "        start = end\n",
    "        end += nn.W[i].shape[0]*nn.W[i].shape[1]\n",
    "        nn.W[i] = params[start: end].reshape(nn.W[i].shape)\n",
    "        start = end\n",
    "        end += nn.b[i].shape[0]*nn.b[i].shape[1]\n",
    "        nn.b[i] = params[start: end].reshape(nn.b[i].shape)"
   ]
  },
  {
   "cell_type": "code",
   "execution_count": 563,
   "metadata": {
    "collapsed": false
   },
   "outputs": [],
   "source": [
    "def grads_check(nn):\n",
    "    # initial var\n",
    "    epsilon = 1e-7\n",
    "    grad = np.array([])\n",
    "    # matrix to vector, and store the initial params for gradapprox\n",
    "    params = matrix_to_vector(nn)\n",
    "    # grad\n",
    "    nn.run(epoch=1)\n",
    "    for i in range(1, nn.L+1):\n",
    "        grad = np.append(grad, nn.dW[i])\n",
    "        grad = np.append(grad, nn.db[i])\n",
    "    grad = grad.reshape(-1, 1)\n",
    "    # gradapprox\n",
    "    set_by_vector(nn, params)\n",
    "    params_num = params.shape[0]\n",
    "    J_plus = np.zeros((params_num, 1))\n",
    "    J_minus = np.zeros((params_num, 1))\n",
    "    gradapprox = np.zeros((params_num, 1))\n",
    "    for i in range(params_num):\n",
    "        # J_plus \n",
    "        theta_plus = np.copy(params)\n",
    "        theta_plus[i] += epsilon\n",
    "        set_by_vector(nn, theta_plus)\n",
    "        nn.forward()\n",
    "        nn.compute_cost()\n",
    "        J_plus[i] = nn.cost\n",
    "        # J_minus\n",
    "        theta_minus = np.copy(params)\n",
    "        theta_minus[i] -= epsilon\n",
    "        set_by_vector(nn, theta_minus)\n",
    "        nn.forward()\n",
    "        nn.compute_cost()\n",
    "        J_minus[i] = nn.cost\n",
    "        # gradapprox\n",
    "        gradapprox[i] = (J_plus[i] - J_minus[i]) / (2*epsilon)\n",
    "    # diff\n",
    "    numerator = np.linalg.norm(grad - gradapprox)                                   \n",
    "    denominator = np.linalg.norm(grad) + np.linalg.norm(gradapprox)\n",
    "    difference = numerator / denominator \n",
    "    print('diff: ', difference)"
   ]
  },
  {
   "cell_type": "code",
   "execution_count": 564,
   "metadata": {
    "collapsed": false,
    "scrolled": true
   },
   "outputs": [
    {
     "name": "stdout",
     "output_type": "stream",
     "text": [
      "diff:  1.89773981754e-09\n"
     ]
    }
   ],
   "source": [
    "x = np.random.randn(2, 3)\n",
    "y = np.random.randn(1, 3) > 0.5\n",
    "nn = nn_model([x.shape[0], 3, 1])\n",
    "nn.set_data(x, y)\n",
    "grads_check(nn)"
   ]
  },
  {
   "cell_type": "markdown",
   "metadata": {},
   "source": [
    "## Toy Dataset"
   ]
  },
  {
   "cell_type": "code",
   "execution_count": 565,
   "metadata": {
    "collapsed": true
   },
   "outputs": [],
   "source": [
    "def load_dataset():\n",
    "    np.random.seed(3)\n",
    "    train_X, train_Y = sklearn.datasets.make_moons(n_samples=300, noise=.2) #300 #0.2 \n",
    "    # Visualize the data\n",
    "    plt.scatter(train_X[:, 0], train_X[:, 1], c=train_Y, s=40, cmap=plt.cm.Spectral);\n",
    "    train_X = train_X.T\n",
    "    train_Y = train_Y.reshape((1, train_Y.shape[0]))\n",
    "    \n",
    "    return train_X, train_Y"
   ]
  },
  {
   "cell_type": "code",
   "execution_count": 566,
   "metadata": {
    "collapsed": false
   },
   "outputs": [
    {
     "data": {
      "image/png": "[encoded data removed]",
      "text/plain": [
       "<matplotlib.figure.Figure at 0x10eb81eb8>"
      ]
     },
     "metadata": {},
     "output_type": "display_data"
    }
   ],
   "source": [
    "train_X, train_Y = load_dataset()"
   ]
  },
  {
   "cell_type": "code",
   "execution_count": 567,
   "metadata": {
    "collapsed": false,
    "scrolled": true
   },
   "outputs": [
    {
     "name": "stdout",
     "output_type": "stream",
     "text": [
      "0.755899866727794\n",
      "0.425725393884891\n",
      "0.3636421880525122\n",
      "0.38978755652067143\n",
      "0.40978753816660696\n",
      "0.41840419655659583\n",
      "0.405628233654189\n",
      "0.38427103974248183\n",
      "0.36000534981554233\n",
      "0.33576327738195444\n",
      "0.3209383144017867\n",
      "0.309857000175434\n",
      "0.30362238476962294\n",
      "0.29311981153446826\n",
      "0.28552655080559014\n",
      "0.2767681671566326\n",
      "0.26916973108096665\n",
      "0.2600115221116291\n",
      "0.2524399139144136\n",
      "0.2433539900335204\n",
      "0.23350224223930674\n",
      "0.22450666285813944\n",
      "0.21607519959215035\n",
      "0.20960511446268643\n",
      "0.20379942878097432\n",
      "0.19671927237495243\n",
      "0.18812382534567634\n",
      "0.17970207076790373\n",
      "0.17415587554261694\n",
      "0.17038989877463395\n",
      "0.16673073971099292\n",
      "0.1623264647586069\n",
      "0.1577063258625825\n",
      "0.15349062467503596\n",
      "0.15073749349366522\n",
      "0.14869158992978707\n",
      "0.14611968460994923\n",
      "0.14353681604367916\n",
      "0.1416709299918179\n",
      "0.1405457183450161\n",
      "0.13968537360998642\n",
      "0.13844911755294717\n",
      "0.13701057748141068\n",
      "0.13585130498336093\n",
      "0.13511340342142802\n",
      "0.13440956575268748\n",
      "0.1334585799240635\n",
      "0.13256432554895237\n",
      "0.1320772314063015\n",
      "0.13180685414079987\n",
      "0.1314527558581834\n",
      "0.1310073446064835\n",
      "0.13054014974146685\n",
      "0.13004736931785563\n",
      "0.1295607503982807\n",
      "0.12902677100608467\n",
      "0.12855863955682198\n",
      "0.128297637365339\n",
      "0.12803286188695895\n",
      "0.12770661441855152\n",
      "0.12732518542280818\n",
      "0.1269412048647827\n",
      "0.12670146727664205\n",
      "0.12650653690680444\n",
      "0.1262288145264758\n",
      "0.12586337672480483\n",
      "0.12550231490289607\n",
      "0.12523601833636644\n",
      "0.12495877262059155\n",
      "0.12464736316454782\n",
      "0.12435755986413019\n",
      "0.12420474299718806\n",
      "0.12401668510899069\n",
      "0.12385565011377438\n",
      "0.1236806958583406\n",
      "0.12348449123953634\n",
      "0.12330436603879202\n",
      "0.12317179559372399\n",
      "0.1230685997548243\n",
      "0.1229718345189302\n",
      "0.12282123226626596\n",
      "0.12266393174089951\n",
      "0.12249362586800658\n",
      "0.12227839104633278\n",
      "0.12213031009818445\n",
      "0.12201024263730605\n",
      "0.12187337396982202\n",
      "0.12165516501582908\n",
      "0.12146622832080449\n",
      "0.121410411728447\n",
      "0.1211886178213431\n",
      "0.121023956984326\n",
      "0.12084789398602182\n",
      "0.12065944762797695\n",
      "0.12048989044526281\n",
      "0.12033442197565332\n",
      "0.12020390601395411\n",
      "0.12005818899779082\n",
      "0.11992553128314518\n",
      "0.1197795989705855\n"
     ]
    }
   ],
   "source": [
    "nn = nn_model([train_X.shape[0], 100, 1]) # the first dimension is the n_x of input \n",
    "nn.set_data(train_X, train_Y)\n",
    "nn.run(epoch=100, lr=0.05, prt=True)"
   ]
  },
  {
   "cell_type": "code",
   "execution_count": 568,
   "metadata": {
    "collapsed": false
   },
   "outputs": [
    {
     "data": {
      "text/plain": [
       "[<matplotlib.lines.Line2D at 0x104311cf8>]"
      ]
     },
     "execution_count": 568,
     "metadata": {},
     "output_type": "execute_result"
    },
    {
     "data": {
      "image/png": "[encoded data removed]",
      "text/plain": [
       "<matplotlib.figure.Figure at 0x1114a6208>"
      ]
     },
     "metadata": {},
     "output_type": "display_data"
    }
   ],
   "source": [
    "plt.plot(nn.J)"
   ]
  },
  {
   "cell_type": "code",
   "execution_count": 569,
   "metadata": {
    "collapsed": false
   },
   "outputs": [
    {
     "data": {
      "text/plain": [
       "0.94333333333333336"
      ]
     },
     "execution_count": 569,
     "metadata": {},
     "output_type": "execute_result"
    }
   ],
   "source": [
    "nn.predict(train_X, train_Y)"
   ]
  }
 ],
 "metadata": {
  "anaconda-cloud": {},
  "celltoolbar": "Raw Cell Format",
  "kernelspec": {
   "display_name": "Python [default]",
   "language": "python",
   "name": "python3"
  },
  "language_info": {
   "codemirror_mode": {
    "name": "ipython",
    "version": 3
   },
   "file_extension": ".py",
   "mimetype": "text/x-python",
   "name": "python",
   "nbconvert_exporter": "python",
   "pygments_lexer": "ipython3",
   "version": "3.5.2"
  },
  "nbpresent": {
   "slides": {
    "0ec2f141-3198-452b-9d8f-aa9ac9ff6bd2": {
     "id": "0ec2f141-3198-452b-9d8f-aa9ac9ff6bd2",
     "prev": "95148d27-9fc7-4735-abb9-71ed2dd15c70",
     "regions": {
      "8e1a0e01-da03-462b-b0e7-c788c7cff88b": {
       "attrs": {
        "height": 0.8,
        "width": 0.8,
        "x": 0.1,
        "y": 0.1
       },
       "content": {
        "cell": "8805c22e-e11a-45f0-9c42-d955c06f115e",
        "part": "whole"
       },
       "id": "8e1a0e01-da03-462b-b0e7-c788c7cff88b"
      }
     }
    },
    "2e254bff-bda7-4df6-aae3-47fc77b44223": {
     "id": "2e254bff-bda7-4df6-aae3-47fc77b44223",
     "prev": "421c58cb-214e-44a9-8b4d-c48c33208d74",
     "regions": {
      "85e7354a-ffd6-4f5e-ad91-0ecf4bb566df": {
       "attrs": {
        "height": 0.8,
        "width": 0.8,
        "x": 0.1,
        "y": 0.1
       },
       "content": {
        "cell": "0edc50cd-50b0-4b7e-99f3-15dc30c050f8",
        "part": "whole"
       },
       "id": "85e7354a-ffd6-4f5e-ad91-0ecf4bb566df"
      }
     }
    },
    "2f578268-82c4-4958-80dd-4a1fb5917f0e": {
     "id": "2f578268-82c4-4958-80dd-4a1fb5917f0e",
     "prev": "90d2b5b5-1cdf-4041-863e-d78d816d82da",
     "regions": {
      "7c6f922e-95f0-413a-ba1a-d1a310866bb8": {
       "attrs": {
        "height": 0.8,
        "width": 0.8,
        "x": 0.1,
        "y": 0.1
       },
       "content": {
        "cell": "2fb4fe78-e1b1-4fbc-b30f-b6fc864c0817",
        "part": "whole"
       },
       "id": "7c6f922e-95f0-413a-ba1a-d1a310866bb8"
      }
     }
    },
    "421c58cb-214e-44a9-8b4d-c48c33208d74": {
     "id": "421c58cb-214e-44a9-8b4d-c48c33208d74",
     "prev": "2f578268-82c4-4958-80dd-4a1fb5917f0e",
     "regions": {
      "fffe87d7-5a31-492b-b713-5662867cdb54": {
       "attrs": {
        "height": 0.8,
        "width": 0.8,
        "x": 0.1,
        "y": 0.1
       },
       "content": {
        "cell": "ce81644d-1453-46a3-9bb1-f280fa2bc018",
        "part": "whole"
       },
       "id": "fffe87d7-5a31-492b-b713-5662867cdb54"
      }
     }
    },
    "7f737e24-e4ed-4002-a9ef-3a181e35b2a5": {
     "id": "7f737e24-e4ed-4002-a9ef-3a181e35b2a5",
     "prev": "ec274236-4080-4661-94f2-9f2433374728",
     "regions": {
      "f86ff016-291f-46f1-8623-a218a0a5dac9": {
       "attrs": {
        "height": 0.8,
        "width": 0.8,
        "x": 0.1,
        "y": 0.1
       },
       "content": {
        "cell": "bd8ab648-9a5f-4f2e-bf83-6ca46cc155d9",
        "part": "whole"
       },
       "id": "f86ff016-291f-46f1-8623-a218a0a5dac9"
      }
     }
    },
    "8a78b900-57cc-46d8-8db8-f86ced95d8dc": {
     "id": "8a78b900-57cc-46d8-8db8-f86ced95d8dc",
     "prev": "a1581b7a-d0f4-41a2-a981-36d9b2281c23",
     "regions": {
      "a9c8c279-c225-4215-a86b-adab84abf6ae": {
       "attrs": {
        "height": 0.8,
        "width": 0.8,
        "x": 0.1,
        "y": 0.1
       },
       "content": {
        "cell": "1fe0b51f-bfa5-4f24-a3e7-3c8bb6b24e84",
        "part": "whole"
       },
       "id": "a9c8c279-c225-4215-a86b-adab84abf6ae"
      }
     }
    },
    "90d2b5b5-1cdf-4041-863e-d78d816d82da": {
     "id": "90d2b5b5-1cdf-4041-863e-d78d816d82da",
     "prev": "7f737e24-e4ed-4002-a9ef-3a181e35b2a5",
     "regions": {
      "cdf4bc2e-6d73-4767-90ce-7a5bd0f393a9": {
       "attrs": {
        "height": 0.8,
        "width": 0.8,
        "x": 0.1,
        "y": 0.1
       },
       "content": {
        "cell": "9d547ff3-84d4-4282-878f-2a08a07a484c",
        "part": "whole"
       },
       "id": "cdf4bc2e-6d73-4767-90ce-7a5bd0f393a9"
      }
     }
    },
    "95148d27-9fc7-4735-abb9-71ed2dd15c70": {
     "id": "95148d27-9fc7-4735-abb9-71ed2dd15c70",
     "prev": null,
     "regions": {
      "a27ac157-ad47-4d7e-b619-050b4bc824b1": {
       "attrs": {
        "height": 0.8,
        "width": 0.8,
        "x": 0.1,
        "y": 0.1
       },
       "content": {
        "cell": "b1841789-0949-4bda-a9eb-6d4d35d002bd",
        "part": "whole"
       },
       "id": "a27ac157-ad47-4d7e-b619-050b4bc824b1"
      }
     }
    },
    "a1581b7a-d0f4-41a2-a981-36d9b2281c23": {
     "id": "a1581b7a-d0f4-41a2-a981-36d9b2281c23",
     "prev": "c3fd514d-ff83-4ac4-b719-68f2e329fa82",
     "regions": {
      "e2b02b61-a4d3-42e8-a2ec-c65a88178f8d": {
       "attrs": {
        "height": 0.8,
        "width": 0.8,
        "x": 0.1,
        "y": 0.1
       },
       "content": {
        "cell": "c7851464-0fc0-4946-b71b-5d7fa4032587",
        "part": "whole"
       },
       "id": "e2b02b61-a4d3-42e8-a2ec-c65a88178f8d"
      }
     }
    },
    "c3fd514d-ff83-4ac4-b719-68f2e329fa82": {
     "id": "c3fd514d-ff83-4ac4-b719-68f2e329fa82",
     "prev": "0ec2f141-3198-452b-9d8f-aa9ac9ff6bd2",
     "regions": {
      "ac9ae1e6-e36d-4020-ac9e-81a5b38bc515": {
       "attrs": {
        "height": 0.8,
        "width": 0.8,
        "x": 0.1,
        "y": 0.1
       },
       "content": {
        "cell": "cd9874c4-fe4e-4c19-a93e-83e34c513fbb",
        "part": "whole"
       },
       "id": "ac9ae1e6-e36d-4020-ac9e-81a5b38bc515"
      }
     }
    },
    "ec274236-4080-4661-94f2-9f2433374728": {
     "id": "ec274236-4080-4661-94f2-9f2433374728",
     "prev": "8a78b900-57cc-46d8-8db8-f86ced95d8dc",
     "regions": {
      "b0abd761-60bd-4f5f-900f-153d3965934c": {
       "attrs": {
        "height": 0.8,
        "width": 0.8,
        "x": 0.1,
        "y": 0.1
       },
       "content": {
        "cell": "72577ff6-e9e8-4d85-b71a-34802dcb435d",
        "part": "whole"
       },
       "id": "b0abd761-60bd-4f5f-900f-153d3965934c"
      }
     }
    }
   },
   "themes": {}
  }
 },
 "nbformat": 4,
 "nbformat_minor": 1
}
